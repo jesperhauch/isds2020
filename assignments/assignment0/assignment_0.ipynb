{
 "cells": [
  {
   "cell_type": "markdown",
   "metadata": {},
   "source": [
    "> **Note:** In all assignments you will be solving exercises posed in a Jupyter notebook that looks like this one. Because you are cloning a Github repository that only we can push to, you should **NEVER EDIT** any of the files you pull from Github. Instead, what you should do is to **make a copy of this notebook and save it somewhere else** on your computer, not inside the `isds2020` folder that you cloned, and write your answers in there. If you edit the notebook you pulled from Github, those edits (possible your solutions to the assignment) may be overwritten and lost the next time you pull from Github. This is important, so don't hesitate to ask if it is unclear."
   ]
  },
  {
   "cell_type": "markdown",
   "metadata": {},
   "source": [
    "# Assignment 0 \n",
    "\n",
    "## Practical information\n",
    "For having this assignment approved you must \n",
    "* Handin no later than Sunday, **August 7th at 12.00 (noon)**.\n",
    "* Work alone for this assignment.\n",
    "\n",
    "**Note**: It is important that you submit your edited version of this [.ipynb file](https://fileinfo.com/extension/ipynb#:~:text=An%20IPYNB%20file%20is%20a,Python%20language%20and%20their%20data.) as a .ipynb file and nothing else. \n",
    "\n",
    "We will host a workshop on **August 4th** where we cover the skills required to answer this problem set.\n",
    "\n",
    "If you have questions about the assignment, ask them at the workshop or in a github issue in the [isds repo](https://github.com/abjer/isds2020/issues).\n",
    "\n",
    "\n"
   ]
  },
  {
   "cell_type": "markdown",
   "metadata": {},
   "source": [
    "## Where to start and aim\n",
    "\n",
    "This assignment is intended to ensure that you all know some basic python when you begin the summer school. The material will be explained in the notebook. Along the way we will point to additional resources if you want the material presented in a different manner.\n",
    "\n",
    "A very good (but perhaps slightly confusing) approach to learning anything programming related is to simply search google whenever you have a question, or cannot get your code to run. In 99% of the cases the first or second result will contain an answer to your question, and this saves you the time required to look for the right pages in a book, or the right tutorial on some website.\n",
    "\n",
    "#### Firts things first\n",
    "We begin with a short overview of what Python is and is not. Run the cell to show the video. If the video does not run open the link [here](https://youtu.be/kaSz6n9ePik).\n"
   ]
  },
  {
   "cell_type": "code",
   "execution_count": 2,
   "metadata": {},
   "outputs": [
    {
     "data": {
      "image/jpeg": "[encoded data removed]",
      "text/html": [
       "\n",
       "        <iframe\n",
       "            width=\"640\"\n",
       "            height=\"360\"\n",
       "            src=\"https://www.youtube.com/embed/kaSz6n9ePik\"\n",
       "            frameborder=\"0\"\n",
       "            allowfullscreen\n",
       "        ></iframe>\n",
       "        "
      ],
      "text/plain": [
       "<IPython.lib.display.YouTubeVideo at 0x1ef19befd30>"
      ]
     },
     "execution_count": 2,
     "metadata": {},
     "output_type": "execute_result"
    }
   ],
   "source": [
    "from IPython.display import YouTubeVideo\n",
    "YouTubeVideo('kaSz6n9ePik', width=640, height=360)"
   ]
  },
  {
   "cell_type": "markdown",
   "metadata": {},
   "source": [
    "#### Jupyter\n",
    "In this course we Jupyter for working with Python as it provides a clean interface and makes it easy to iterate on working with data. Again, run the cell to show the video. If the video does not run open the link [here](https://youtu.be/0U0MYrPLuI4)."
   ]
  },
  {
   "cell_type": "code",
   "execution_count": null,
   "metadata": {},
   "outputs": [],
   "source": [
    "YouTubeVideo('0U0MYrPLuI4', width=640, height=360)"
   ]
  },
  {
   "cell_type": "markdown",
   "metadata": {},
   "source": [
    "### **<font color=\"red\">STOP! X#@</font>**\n",
    "\n",
    "#### Checklist on Jupyter\n",
    "\n",
    "\n",
    "Before you move on from here part make sure that you :\n",
    "- Can execute a cell - check that the video loads and runs above\n",
    "- Can edit a cell\n",
    "- Add and remove cells\n",
    "\n",
    "I recommend checking out my short guide on the most relevant hotkeys for being fast with Jupyter.\n"
   ]
  },
  {
   "cell_type": "markdown",
   "metadata": {},
   "source": [
    "## Overview of notebook\n",
    "This notebook consists of two independent parts. The first about basic Python where you get familiar with the most important concepts and tools. The second part is a short introduction to pandas which is a tool for structuring data in Python\n",
    "\n",
    "#### Overview of Python content\n",
    "In this integrated assignment and teaching module we will learn the following things about basic Python:\n",
    "- Fundamental data types: numeric, string and boolean\n",
    "- Operators: numerical and logical\n",
    "- Conditional logic\n",
    "- Containers with indices\n",
    "- Loops: for and while\n",
    "- Reuseable code: functions, classes and modules\n",
    "\n",
    "*Additional sources*: You may find that the explainations here are insufficient. You can check out the reading list for the course. Alternatively, if you don't like that material, we suggest you try one of the three different resources for learning Python that you can use to learn the necessary skills for answering the questions. \n",
    "\n",
    "- Videos: [pythonprogramming.net fundamental](https://pythonprogramming.net/python-fundamental-tutorials/) (basics and intermediate)\n",
    "\n",
    "- A tutorial website: [The official python 3 tutorial](https://docs.python.org/3/tutorial/introduction.html) (sections 3, 4 and 5)\n",
    "\n",
    "- A book: [learn python the hard way](https://learnpythonthehardway.org/) \n",
    "\n",
    "You are free to pick from either of the above, or find your own ressources online.\n",
    "\n",
    "#### Overview of Pandas content\n",
    "In this integrated assignment and teaching module we will also learn to use pandas for:\n",
    " - Loading CSV files\n",
    " - Selecting specific observations by indexing\n",
    " - Changing parts of a DataFrame and restructuring data more generally\n",
    "\n",
    "*Additional sources for pandas:* \n",
    "\n",
    " - A tutorial website: [Intro to pandas data structures](http://www.gregreda.com/2013/10/26/intro-to-pandas-data-structures/)\n",
    " - [The documentation of pandas](https://pandas.pydata.org/docs/getting_started/10min.html)\n",
    " - The [pandas book](https://wesmckinney.com/pages/book.html) from the reading list for the course"
   ]
  },
  {
   "cell_type": "markdown",
   "metadata": {},
   "source": [
    "## A quick note on using this notebook\n",
    "Below each problem you will find two code cells. The first one contains the line \n",
    "```python\n",
    "raise NotImplementedError()\n",
    "```\n",
    "Erase this line and implement your question here. The cell below contains a number of `assert` statements. These check if your answer is correct. Once you have answered a question you can run the assert block. If you answer is correct nothing will happen, as the assertions all pass. If your answer is incorrect the assertions will raise an `AssertionError` and you will get a bit of information about the possible source of your mistake."
   ]
  },
  {
   "cell_type": "markdown",
   "metadata": {
    "slideshow": {
     "slide_type": "slide"
    }
   },
   "source": [
    "# 0.1 Fundamentals of Python\n",
    "## Elementary data data types"
   ]
  },
  {
   "cell_type": "markdown",
   "metadata": {},
   "source": [
    "*Can you give me an example of what data python is working with?*\n",
    "\n",
    "Watch the video below to get an explanation."
   ]
  },
  {
   "cell_type": "code",
   "execution_count": 1,
   "metadata": {},
   "outputs": [
    {
     "ename": "NameError",
     "evalue": "name 'YouTubeVideo' is not defined",
     "output_type": "error",
     "traceback": [
      "\u001b[1;31m---------------------------------------------------------------------------\u001b[0m",
      "\u001b[1;31mNameError\u001b[0m                                 Traceback (most recent call last)",
      "\u001b[1;32m<ipython-input-1-f870c4bdba5a>\u001b[0m in \u001b[0;36m<module>\u001b[1;34m\u001b[0m\n\u001b[1;32m----> 1\u001b[1;33m \u001b[0mYouTubeVideo\u001b[0m\u001b[1;33m(\u001b[0m\u001b[1;34m'r7IvHf0Rz4c'\u001b[0m\u001b[1;33m,\u001b[0m \u001b[0mwidth\u001b[0m\u001b[1;33m=\u001b[0m\u001b[1;36m640\u001b[0m\u001b[1;33m,\u001b[0m \u001b[0mheight\u001b[0m\u001b[1;33m=\u001b[0m\u001b[1;36m360\u001b[0m\u001b[1;33m)\u001b[0m\u001b[1;33m\u001b[0m\u001b[1;33m\u001b[0m\u001b[0m\n\u001b[0m",
      "\u001b[1;31mNameError\u001b[0m: name 'YouTubeVideo' is not defined"
     ]
    }
   ],
   "source": [
    "YouTubeVideo('r7IvHf0Rz4c', width=640, height=360)"
   ]
  },
  {
   "cell_type": "markdown",
   "metadata": {
    "slideshow": {
     "slide_type": "fragment"
    }
   },
   "source": [
    "#### Examples with data types\n",
    "Execute the cell below to create a variable `A` as a float equal to 1.5:"
   ]
  },
  {
   "cell_type": "code",
   "execution_count": null,
   "metadata": {
    "slideshow": {
     "slide_type": "-"
    }
   },
   "outputs": [],
   "source": [
    "A = 1.5"
   ]
  },
  {
   "cell_type": "markdown",
   "metadata": {
    "slideshow": {
     "slide_type": "fragment"
    }
   },
   "source": [
    "Execute the cell below to convert the variable `A` to an integer by typing: "
   ]
  },
  {
   "cell_type": "code",
   "execution_count": null,
   "metadata": {
    "slideshow": {
     "slide_type": "-"
    }
   },
   "outputs": [],
   "source": [
    "int(A) # rounds down, i.e. floor "
   ]
  },
  {
   "cell_type": "markdown",
   "metadata": {
    "slideshow": {
     "slide_type": "fragment"
    }
   },
   "source": [
    "We can do the same for converting to `float`, `str`, `bool`. Note some conversion are not allowed."
   ]
  },
  {
   "cell_type": "markdown",
   "metadata": {
    "slideshow": {
     "slide_type": "slide"
    }
   },
   "source": [
    "## Printing stuff\n",
    "\n",
    "An essential procedure in Python is `print`. "
   ]
  },
  {
   "cell_type": "markdown",
   "metadata": {
    "slideshow": {
     "slide_type": "fragment"
    }
   },
   "source": [
    "Try executing some code:"
   ]
  },
  {
   "cell_type": "code",
   "execution_count": null,
   "metadata": {
    "slideshow": {
     "slide_type": "fragment"
    }
   },
   "outputs": [],
   "source": [
    "my_str = 'I can do in Python, whatever I want'\n",
    "print(my_str)"
   ]
  },
  {
   "cell_type": "code",
   "execution_count": null,
   "metadata": {
    "slideshow": {
     "slide_type": "fragment"
    }
   },
   "outputs": [],
   "source": [
    "my_var1 = 33\n",
    "my_var2 = 2\n",
    "print(my_var1, my_var2)"
   ]
  },
  {
   "cell_type": "markdown",
   "metadata": {
    "slideshow": {
     "slide_type": "slide"
    }
   },
   "source": [
    "*Why do we print?*"
   ]
  },
  {
   "cell_type": "markdown",
   "metadata": {
    "slideshow": {
     "slide_type": "fragment"
    }
   },
   "source": [
    "- Can inspect values.\n",
    "- Especially intermediate output (within function, loop etc.).\n"
   ]
  },
  {
   "cell_type": "markdown",
   "metadata": {
    "slideshow": {
     "slide_type": "slide"
    }
   },
   "source": [
    "## Debugging \n",
    "\n",
    "*What happens if my code has errors?*\n",
    "\n",
    "- Either you fix it or you're in trouble. See below on how we handle them.\n"
   ]
  },
  {
   "cell_type": "markdown",
   "metadata": {
    "slideshow": {
     "slide_type": "fragment"
    }
   },
   "source": [
    "Try executing the following code block:"
   ]
  },
  {
   "cell_type": "code",
   "execution_count": null,
   "metadata": {
    "slideshow": {
     "slide_type": "-"
    }
   },
   "outputs": [],
   "source": [
    "float('a')"
   ]
  },
  {
   "cell_type": "markdown",
   "metadata": {},
   "source": [
    "*What does the error message mean?*\n",
    "\n",
    "See the video below for an interpretation of the problem and how to fix it."
   ]
  },
  {
   "cell_type": "code",
   "execution_count": null,
   "metadata": {},
   "outputs": [],
   "source": [
    "YouTubeVideo('wEjO-0rx0c0', width=640, height=360)    "
   ]
  },
  {
   "cell_type": "markdown",
   "metadata": {
    "slideshow": {
     "slide_type": "slide"
    }
   },
   "source": [
    "## Numeric operators"
   ]
  },
  {
   "cell_type": "markdown",
   "metadata": {
    "slideshow": {
     "slide_type": "slide"
    }
   },
   "source": [
    "*What numeric computations can python do?*\n",
    "\n",
    "An operator in Python manipulates various data types."
   ]
  },
  {
   "cell_type": "markdown",
   "metadata": {
    "slideshow": {
     "slide_type": "fragment"
    }
   },
   "source": [
    "We have seen addition `+`. Other basic numeric operators:\n",
    "- multiplication `*`;\n",
    "- subtraction `-`; \n",
    "- division `/`;\n",
    "- power, `**` \n",
    "\n",
    "Try executing the code below. Explain in words what the expression does."
   ]
  },
  {
   "cell_type": "code",
   "execution_count": null,
   "metadata": {},
   "outputs": [],
   "source": [
    "2**4 "
   ]
  },
  {
   "cell_type": "markdown",
   "metadata": {
    "deletable": false,
    "editable": false,
    "nbgrader": {
     "cell_type": "markdown",
     "checksum": "3f2833deca3f86295de15ab40271fa0a",
     "grade": false,
     "grade_id": "cell-245e1eb6a38e435e",
     "locked": true,
     "schema_version": 3,
     "solution": false,
     "task": false
    }
   },
   "source": [
    "Having seen all the information, you are now ready for the first exercise. The exercise is found below in the indented text. You should provide your answer in the cell below using Python code.\n",
    "> **Ex. 0.1.1:**  Add the two integers `9` and `2` and store the result in the variable named `answer_001`"
   ]
  },
  {
   "cell_type": "code",
   "execution_count": null,
   "metadata": {
    "deletable": false,
    "nbgrader": {
     "cell_type": "code",
     "checksum": "88b12e5767b3e3caf2803464356b1073",
     "grade": false,
     "grade_id": "problem_001",
     "locked": false,
     "schema_version": 3,
     "solution": true
    }
   },
   "outputs": [],
   "source": [
    "#answer_001 = \n",
    "# YOUR CODE HERE\n",
    "raise NotImplementedError()"
   ]
  },
  {
   "cell_type": "code",
   "execution_count": null,
   "metadata": {
    "deletable": false,
    "editable": false,
    "nbgrader": {
     "cell_type": "code",
     "checksum": "13e22f0c622d3d71631938e9d003021b",
     "grade": true,
     "grade_id": "problem_001_tests",
     "locked": true,
     "points": 1,
     "schema_version": 3,
     "solution": false
    }
   },
   "outputs": [],
   "source": [
    "assert answer_001 == 11"
   ]
  },
  {
   "cell_type": "markdown",
   "metadata": {
    "deletable": false,
    "editable": false,
    "nbgrader": {
     "cell_type": "markdown",
     "checksum": "507f03a5667bfe2150c740bd2427df92",
     "grade": false,
     "grade_id": "cell-361e6bb2642d6b47",
     "locked": true,
     "schema_version": 3,
     "solution": false,
     "task": false
    }
   },
   "source": [
    "### Problem 0.1.2\n",
    "Python also has a built in data type called a _string_. This is simply a sequence of letters/characters and can thus contain names, sentences etc. To define a string in python, you need to wrap your sentence in either double or single quotation marks. For example you could write `\"Hello world!\"`. \n",
    "\n",
    "> **Ex. 0.1.2:** In python the `+` is not only used for numbers. Use the `+` to add together the three strings `\"Social\"`, `\"Data\"` and `\"Science\"`. What is the result? Store it in a new variable called `answer_002`"
   ]
  },
  {
   "cell_type": "code",
   "execution_count": null,
   "metadata": {
    "deletable": false,
    "nbgrader": {
     "cell_type": "code",
     "checksum": "7253d6834e301727969da36fe5068032",
     "grade": false,
     "grade_id": "problem_002",
     "locked": false,
     "schema_version": 3,
     "solution": true
    }
   },
   "outputs": [],
   "source": [
    "#answer_002=\n",
    "# YOUR CODE HERE\n",
    "raise NotImplementedError()"
   ]
  },
  {
   "cell_type": "code",
   "execution_count": null,
   "metadata": {
    "deletable": false,
    "editable": false,
    "nbgrader": {
     "cell_type": "code",
     "checksum": "4c90639d7f4405e93ef5f21c1f409061",
     "grade": true,
     "grade_id": "problem_002_tests",
     "locked": true,
     "points": 1,
     "schema_version": 3,
     "solution": false,
     "task": false
    }
   },
   "outputs": [],
   "source": [
    "assert answer_002 == 'SocialDataScience'"
   ]
  },
  {
   "cell_type": "markdown",
   "metadata": {
    "slideshow": {
     "slide_type": "slide"
    }
   },
   "source": [
    "## Boolean operators\n",
    "\n",
    "(tip: if you are not certain what a boolean value is, go back to [Fundamental Data Types](#Fundmental-Data-Types))"
   ]
  },
  {
   "cell_type": "markdown",
   "metadata": {
    "slideshow": {
     "slide_type": "slide"
    }
   },
   "source": [
    "*What else can operators do?*"
   ]
  },
  {
   "cell_type": "markdown",
   "metadata": {
    "slideshow": {
     "slide_type": "fragment"
    }
   },
   "source": [
    "We can check the validity of a statement - using the equal operator, `==`, or not equal operator `!=`. \n",
    "\n",
    "Try the examples below."
   ]
  },
  {
   "cell_type": "code",
   "execution_count": null,
   "metadata": {
    "slideshow": {
     "slide_type": "fragment"
    }
   },
   "outputs": [],
   "source": [
    "3 == (2 + 1)"
   ]
  },
  {
   "cell_type": "code",
   "execution_count": null,
   "metadata": {
    "slideshow": {
     "slide_type": "fragment"
    }
   },
   "outputs": [],
   "source": [
    "3 != (2 + 1)"
   ]
  },
  {
   "cell_type": "code",
   "execution_count": null,
   "metadata": {},
   "outputs": [],
   "source": [
    "11 != 2 * 5"
   ]
  },
  {
   "cell_type": "markdown",
   "metadata": {
    "slideshow": {
     "slide_type": "fragment"
    }
   },
   "source": [
    "We also do numeric comparisons, greater than `>`, greater than or equal `>=` etc."
   ]
  },
  {
   "cell_type": "markdown",
   "metadata": {
    "slideshow": {
     "slide_type": "slide"
    }
   },
   "source": [
    "*How can we manipulate boolean values?*\n",
    "\n",
    "Combining boolean values can be done with using:\n",
    "\n",
    "- the `and` operator - equivalent to `&`\n",
    "- the `or` operator - equivalent to `|`"
   ]
  },
  {
   "cell_type": "markdown",
   "metadata": {
    "slideshow": {
     "slide_type": "fragment"
    }
   },
   "source": [
    "Let's try this!"
   ]
  },
  {
   "cell_type": "code",
   "execution_count": null,
   "metadata": {
    "slideshow": {
     "slide_type": "-"
    }
   },
   "outputs": [],
   "source": [
    "print(True | False)\n",
    "#print(True & False)"
   ]
  },
  {
   "cell_type": "markdown",
   "metadata": {
    "slideshow": {
     "slide_type": "slide"
    }
   },
   "source": [
    "*What other things can we do?*"
   ]
  },
  {
   "cell_type": "markdown",
   "metadata": {
    "slideshow": {
     "slide_type": "fragment"
    }
   },
   "source": [
    "We can negate/reverse the statement with the `not` operator:"
   ]
  },
  {
   "cell_type": "code",
   "execution_count": null,
   "metadata": {
    "slideshow": {
     "slide_type": "-"
    }
   },
   "outputs": [],
   "source": [
    "not (True and True)"
   ]
  },
  {
   "cell_type": "markdown",
   "metadata": {
    "deletable": false,
    "editable": false,
    "nbgrader": {
     "cell_type": "markdown",
     "checksum": "ed978d0d6d4ea43b4d400e65453b3382",
     "grade": false,
     "grade_id": "cell-abbc02668f8866e1",
     "locked": true,
     "schema_version": 3,
     "solution": false,
     "task": false
    }
   },
   "source": [
    "### Problem 0.1.3\n",
    "Above you added two integers together, and got a result of `11`. Python separates numbers in two classes, the _integers_ $...,-1,0,1,2,...$ and the _floats_, which are an approximation of the real numbers $\\mathbb{R}$ (exactly how floats differ from reals is taught in introductory computer science courses).\n",
    "\n",
    "\n",
    "> **Ex. 0.1.3:**  \n",
    "* Add `4.2` to `2`, store the result in the variable `answer_0031`.\n",
    "* What is `0.33*10` in python? Store the result in the variable `answer_0032`\n",
    "\n",
    "> *Note:* the notebook will only print out the result of the last line in each cell."
   ]
  },
  {
   "cell_type": "code",
   "execution_count": null,
   "metadata": {
    "deletable": false,
    "nbgrader": {
     "cell_type": "code",
     "checksum": "5747a7e2bece9ab1bbb214eefbbd37f8",
     "grade": false,
     "grade_id": "problem_003",
     "locked": false,
     "schema_version": 3,
     "solution": true
    }
   },
   "outputs": [],
   "source": [
    "#answer_0031=\n",
    "#answer_0032=\n",
    "# YOUR CODE HERE\n",
    "raise NotImplementedError()"
   ]
  },
  {
   "cell_type": "code",
   "execution_count": null,
   "metadata": {
    "deletable": false,
    "editable": false,
    "nbgrader": {
     "cell_type": "code",
     "checksum": "4610f992b0f4a8565995fe7de7f67700",
     "grade": true,
     "grade_id": "problem_003_tests",
     "locked": true,
     "points": 1,
     "schema_version": 3,
     "solution": false,
     "task": false
    }
   },
   "outputs": [],
   "source": [
    "assert answer_0031 == 6.2\n",
    "assert answer_0032 == 0.33*10\n",
    "assert type(answer_0032) == float"
   ]
  },
  {
   "cell_type": "markdown",
   "metadata": {
    "slideshow": {
     "slide_type": "slide"
    }
   },
   "source": [
    "## Containers "
   ]
  },
  {
   "cell_type": "markdown",
   "metadata": {
    "slideshow": {
     "slide_type": "slide"
    }
   },
   "source": [
    "*What is a composite data type?*\n",
    "\n",
    "A data type that can contain more than entry of data, e.g. multiple numbers.\n",
    "\n",
    "*What are the most fundamental composite data types?*\n",
    "\n",
    "Three of the most fundamental composite data types   are the _tuple_, the _list_ and the _dictionary_. \n",
    "\n",
    "* The _tuple_ is declared with round parentheses, e.g. `(1,2,3)` each element in the tuple is separated by a comma. One you have declared a tuple you cannot change it's content without making a copy of the tuple first (you will read that the tuple is an _immutable_ data type).\n",
    "\n",
    "* The _list_ is almost identical to the tuple. It is declared using square parentheses, e.g. `[1,2,3]`. Unlike the tuple, a list can be changed after definition, by adding, changing or removing elements. This is called a _mutable_ data type.\n",
    "\n",
    "* The _dictionary_ or simply _dict_ is also a mutable data type. Unlike the other data types the dict works like a lookup table, where each element of data stored in the dictionary is associated with a name. To look up an item in the dictionary you don't need to know its position in the dictionary, only its name. The dict is defined with curly braces and a colon to separate the name from the value, e.g. `{'name_of_first_entry': 1, 'name_of_second_entry: 2}`.\n",
    "\n",
    "Watch the video below to get an explanation why these data structures are really important."
   ]
  },
  {
   "cell_type": "code",
   "execution_count": null,
   "metadata": {},
   "outputs": [],
   "source": [
    "YouTubeVideo('8yIupGinliw', width=640, height=360)    "
   ]
  },
  {
   "cell_type": "markdown",
   "metadata": {
    "deletable": false,
    "editable": false,
    "nbgrader": {
     "cell_type": "markdown",
     "checksum": "57e7b9ece54776b90d7afa71fdbff6ca",
     "grade": false,
     "grade_id": "cell-e88c3899410ccb72",
     "locked": true,
     "schema_version": 3,
     "solution": false,
     "task": false
    }
   },
   "source": [
    "### Problem 0.1.4\n",
    "\n",
    "> **Ex. 0.1.4:** Define the variable `y` as a list containing the elements `0, 4, 'a', 'g'`. Also define a variable `z` which is a tuple containing the same elements. Try to access the 0th element of `y` and the 1st element of `z`. Store these two values in the two variables `answer_004_y0` and `answer_004_z1`.\n",
    "\n",
    "> *Hint:* To access the _n_'th element of a list/tuple write `myData[n]`, for example `y[0]` gets the 0th element of `y`. "
   ]
  },
  {
   "cell_type": "code",
   "execution_count": null,
   "metadata": {
    "deletable": false,
    "nbgrader": {
     "cell_type": "code",
     "checksum": "0d31d473ca0bb4b47d8398a713666f9a",
     "grade": false,
     "grade_id": "problem_004",
     "locked": false,
     "schema_version": 3,
     "solution": true
    }
   },
   "outputs": [],
   "source": [
    "# YOUR CODE HERE\n",
    "raise NotImplementedError()"
   ]
  },
  {
   "cell_type": "code",
   "execution_count": null,
   "metadata": {
    "deletable": false,
    "editable": false,
    "nbgrader": {
     "cell_type": "code",
     "checksum": "1458f786206098718b6d84dc1ea73fa2",
     "grade": true,
     "grade_id": "problem_004_tests",
     "locked": true,
     "points": 1,
     "schema_version": 3,
     "solution": false
    }
   },
   "outputs": [],
   "source": [
    "assert y == [0, 4, 'a', 'g']\n",
    "assert z == (0, 4, 'a', 'g')\n",
    "assert answer_004_y0 == 0\n",
    "assert answer_004_z1 == 4"
   ]
  },
  {
   "cell_type": "markdown",
   "metadata": {
    "slideshow": {
     "slide_type": "slide"
    }
   },
   "source": [
    "# 0.2 Control flow"
   ]
  },
  {
   "cell_type": "markdown",
   "metadata": {
    "slideshow": {
     "slide_type": "-"
    }
   },
   "source": [
    "## If-then syntax\n",
    "\n",
    "_Control flow_ means writing code that controls the way data or information flows through the program. The concepts of control flow should be recognizable outside of coding as well. For example when you go shopping you might want to buy koldskål, but only **if** the kammerjunker are on sale. **else** you will buy icecream. These kinds of logic come up everywhere in coding; self driving cars should go forward only **if** the light is green, items should be listed for sale in a web shop only **if** they are in stock, stars should be put on the estimates **if** they are significant etc. \n",
    "\n",
    "Another kind of control flow deals with doing things repeatedly. For example dishes should be done **while** there are still dirty dishes to wash, **for** each student **in** social data science a grade should be given, etc.\n",
    "\n",
    "In the following problems you will work with both kinds of control flow. "
   ]
  },
  {
   "cell_type": "markdown",
   "metadata": {
    "slideshow": {
     "slide_type": "slide"
    }
   },
   "source": [
    "*How can we activate code based on data in Python?*\n",
    "\n",
    "In Python the syntax is easy with the `if` syntex. \n",
    "\n",
    "```python\n",
    "if statement:  \n",
    "    code\n",
    "```\n",
    "\n",
    "In the example above the block called `code` is run if the condition called `statement` is true (either a variable or an expression)."
   ]
  },
  {
   "cell_type": "markdown",
   "metadata": {
    "slideshow": {
     "slide_type": "slide"
    }
   },
   "source": [
    "#### Examples using if\n",
    "Try to run the examples:"
   ]
  },
  {
   "cell_type": "code",
   "execution_count": null,
   "metadata": {
    "slideshow": {
     "slide_type": "-"
    }
   },
   "outputs": [],
   "source": [
    "my_statement = (4 == 4)\n",
    "if my_statement:  \n",
    "    print (\"I'm being executed, yay!\")"
   ]
  },
  {
   "cell_type": "markdown",
   "metadata": {
    "slideshow": {
     "slide_type": "slide"
    }
   },
   "source": [
    "#### Introducing an alternative\n",
    "\n",
    "\n",
    "If the statement in our condition is false then we can execute other code\n",
    "with the `else` statement. Try the example below.\n"
   ]
  },
  {
   "cell_type": "code",
   "execution_count": null,
   "metadata": {},
   "outputs": [],
   "source": [
    "my_statement = False\n",
    "if my_statement:  \n",
    "    print (\"I'm being executed, yay!\")\n",
    "else:\n",
    "    print (\"Shoot! I'm still being executed.!\")"
   ]
  },
  {
   "cell_type": "markdown",
   "metadata": {},
   "source": [
    "#### More material\n",
    "\n",
    "We have not covered the statements `break` and `continue`, or `try` and `except` which are also control flow statements. These are slightly more advanced, but it can be a good idea to look them up yourself. \n"
   ]
  },
  {
   "cell_type": "markdown",
   "metadata": {
    "deletable": false,
    "editable": false,
    "nbgrader": {
     "cell_type": "markdown",
     "checksum": "28642ca1d3c2797073df448f6c654d48",
     "grade": false,
     "grade_id": "cell-95021b488d6bc2d2",
     "locked": true,
     "schema_version": 3,
     "solution": false,
     "task": false
    }
   },
   "source": [
    "### Problem 0.2.1\n",
    "In python the if/else logic consists of three keywords: *if*, *elif* (else if) and *else*. The if and elif keywords should be followed by a logical statement that is either `True` or `False`. The code that should be executed `if` the logic is `True` is written on the lines below the `if`, and should be indented one TAB (or 4 spaces). Finally all control flow statements must end with a colon. \n",
    "\n",
    "> **Ex. 0.2.1:**  Read the code in the cell below. Assign a value to the variable `x` that makes the code print \"Good job!\""
   ]
  },
  {
   "cell_type": "code",
   "execution_count": null,
   "metadata": {
    "deletable": false,
    "nbgrader": {
     "cell_type": "code",
     "checksum": "942ad45bdbdc43941844475881e327a0",
     "grade": false,
     "grade_id": "problem_021",
     "locked": false,
     "schema_version": 3,
     "solution": true
    }
   },
   "outputs": [],
   "source": [
    "# YOUR CODE HERE\n",
    "raise NotImplementedError()\n",
    "\n",
    "if x < 5:\n",
    "    answer_021_sentinel = 0\n",
    "    print(\"x is too small\")\n",
    "\n",
    "elif x >= 5 and x < 8:\n",
    "    answer_021_sentinel = 1\n",
    "    print(\"Good job!\")\n",
    "\n",
    "else: \n",
    "    answer_021_sentinel = 0    \n",
    "    print(\"x is too large\")"
   ]
  },
  {
   "cell_type": "code",
   "execution_count": null,
   "metadata": {
    "deletable": false,
    "editable": false,
    "nbgrader": {
     "cell_type": "code",
     "checksum": "f249508b260a36009ee2d614b9cd702a",
     "grade": true,
     "grade_id": "problem_021_tests",
     "locked": true,
     "points": 1,
     "schema_version": 3,
     "solution": false
    }
   },
   "outputs": [],
   "source": [
    "assert answer_021_sentinel == 1"
   ]
  },
  {
   "cell_type": "markdown",
   "metadata": {
    "deletable": false,
    "editable": false,
    "nbgrader": {
     "cell_type": "markdown",
     "checksum": "b4be21194bc3b74d6b0aaf382f4477d7",
     "grade": false,
     "grade_id": "cell-e95feb3ae1b033d2",
     "locked": true,
     "schema_version": 3,
     "solution": false,
     "task": false
    }
   },
   "source": [
    "### Problem 0.2.2\n",
    "Above we used two different types of comparison: `>=` and `<`. To compare two values and check if they are equal python uses double equal signs `==` (remember a single = was used to assign values to a variable). \n",
    "\n",
    "> **Ex. 0.2.2:**  The code below draws a random number between 0 and 1 and stores in the variable `randnum`. Write an if/else block that defines a new variable `answer_022` which is equal to 0 if `randnum <= 0.3` and is 1 if `randnum > 0.3`. That is write code that defines \n",
    "\n",
    "<br>\n",
    "$$\n",
    "\\text{answer_022} = \\begin{cases}\n",
    "0 \\text{  if } \\text{randnum} \\leq 0.3 \\\\\n",
    "1 \\text{  if } \\text{randnum} > 0.3\n",
    "\\end{cases}\n",
    "$$"
   ]
  },
  {
   "cell_type": "code",
   "execution_count": null,
   "metadata": {
    "deletable": false,
    "nbgrader": {
     "cell_type": "code",
     "checksum": "3428d16adf6b5e1e1566fbee1802a616",
     "grade": false,
     "grade_id": "problem_022",
     "locked": false,
     "schema_version": 3,
     "solution": true
    }
   },
   "outputs": [],
   "source": [
    "import random\n",
    "randnum = random.uniform(0,1)\n",
    "\n",
    "# YOUR CODE HERE\n",
    "raise NotImplementedError()"
   ]
  },
  {
   "cell_type": "code",
   "execution_count": null,
   "metadata": {
    "deletable": false,
    "editable": false,
    "nbgrader": {
     "cell_type": "code",
     "checksum": "ac7797f8f3ec53429c273a25b117dd08",
     "grade": true,
     "grade_id": "problem_022_tests",
     "locked": true,
     "points": 1,
     "schema_version": 3,
     "solution": false
    }
   },
   "outputs": [],
   "source": [
    "assert (answer_022 == 0 and randnum <= 0.3) or (answer_022 == 1 and randnum > 0.3)"
   ]
  },
  {
   "cell_type": "markdown",
   "metadata": {
    "slideshow": {
     "slide_type": "slide"
    }
   },
   "source": [
    "## Loops "
   ]
  },
  {
   "cell_type": "markdown",
   "metadata": {
    "slideshow": {
     "slide_type": "fragment"
    }
   },
   "source": [
    "#### For loops\n",
    "\n",
    "Control flow that does the same thing repeatedly is called a _loop_. In python you can loop through anything that is _iterable_, e.g. anything where it makes sense to say \"for each element in this item, do whatever.\" Lists, tuples and dictionaries are all iterable, and can thus be looped over. This kind of loop is called a _for loop_. The basic syntax is \n",
    "\n",
    "```python\n",
    "for element in SomeIterable:\n",
    "    dosomething(element)\n",
    "```\n",
    "where `element` is a temporary name given to the current element reached in the loop, and `dosomething()` can be any valid python code. \n",
    "\n",
    "Example - try the following code:"
   ]
  },
  {
   "cell_type": "code",
   "execution_count": null,
   "metadata": {
    "slideshow": {
     "slide_type": "-"
    }
   },
   "outputs": [],
   "source": [
    "A = []\n",
    "\n",
    "for i in [1,3,5]:\n",
    "    i_squared = i**2\n",
    "    A.append(i_squared)\n",
    "    \n",
    "print(A)"
   ]
  },
  {
   "cell_type": "markdown",
   "metadata": {
    "slideshow": {
     "slide_type": "fragment"
    }
   },
   "source": [
    "For loops are smart when: iterating over files in a directory; iterating over specific set of columns."
   ]
  },
  {
   "cell_type": "markdown",
   "metadata": {
    "slideshow": {
     "slide_type": "fragment"
    }
   },
   "source": [
    "*Quiz*: How does Python know where the code associated with inside of the loop begins?"
   ]
  },
  {
   "cell_type": "markdown",
   "metadata": {
    "slideshow": {
     "slide_type": "fragment"
    }
   },
   "source": [
    "*Answer*: By indenting the line with four whitespaces, see example above. This is the same as the if statements."
   ]
  },
  {
   "cell_type": "markdown",
   "metadata": {
    "deletable": false,
    "editable": false,
    "nbgrader": {
     "cell_type": "markdown",
     "checksum": "ae7c301395163d70d5524e1bfa8eb705",
     "grade": false,
     "grade_id": "cell-befaad6598037139",
     "locked": true,
     "schema_version": 3,
     "solution": false,
     "task": false
    }
   },
   "source": [
    "> **Ex. 0.2.3:**  Begin by initializing an emply list in the variable `answer_023` (simply write `answer_023=[]`). Then loop trough the list `y` that you defined in [problem 0.1.4](#Problem-0.1.4). For each element in `y`, multiply that element by 3 and *append* it to `answer_023`. (You can finish off by showing the content of `answer_023` after the loop has run.)\n",
    "\n",
    "> *Hint:* To append data to a list you can write `answer_023.append(new_element)` where `new_element` is the new data that you want to append."
   ]
  },
  {
   "cell_type": "code",
   "execution_count": null,
   "metadata": {
    "deletable": false,
    "nbgrader": {
     "cell_type": "code",
     "checksum": "4ce84a9aea2ebdf3b2c8d6a0917f9a23",
     "grade": false,
     "grade_id": "problem_023",
     "locked": false,
     "schema_version": 3,
     "solution": true
    }
   },
   "outputs": [],
   "source": [
    "# YOUR CODE HERE\n",
    "raise NotImplementedError()"
   ]
  },
  {
   "cell_type": "code",
   "execution_count": null,
   "metadata": {
    "deletable": false,
    "editable": false,
    "nbgrader": {
     "cell_type": "code",
     "checksum": "86ae178cf6dd9c8b6f1bcf13a9db5c94",
     "grade": true,
     "grade_id": "problem_023_tests",
     "locked": true,
     "points": 1,
     "schema_version": 3,
     "solution": false
    }
   },
   "outputs": [],
   "source": [
    "assert answer_023 == [0, 12, 'aaa', 'ggg']"
   ]
  },
  {
   "cell_type": "markdown",
   "metadata": {
    "slideshow": {
     "slide_type": "slide"
    }
   },
   "source": [
    "#### While loops\n",
    "\n",
    "The other kind of loop in Python is the _while loop_. Instead of looping over an iterable the `while` loop continues going as long as a supplied logical condition is True. Most commonly the while loop is combined with a counting variable that keeps track of how many times the loop has been run. One specific application where a while loop can be useful is data collection on the internet (scraping) which is often open ended. Another application is when we are computing something we do not know how long will take to compute, e.g. for a model to converge.\n",
    "\n",
    "\n",
    "The basic syntax is seen in the example below. This code will run 100 times before stopping. At each iteration it checks that `i` is smaller than 100. If it is, it does something and adds 1 to the variable `i` before repeating.\n",
    "\n",
    "```python \n",
    "\n",
    "i = 0\n",
    "while i < 100:\n",
    "    dosomething()    \n",
    "    i = i + 1\n",
    "```\n",
    "\n",
    "In the example below we provide an example of what `dosomething()` can be. Try the code below and explain why it outputs what it does.\n",
    "Example - try the following code:\n"
   ]
  },
  {
   "cell_type": "code",
   "execution_count": null,
   "metadata": {
    "slideshow": {
     "slide_type": "-"
    }
   },
   "outputs": [],
   "source": [
    "i = 0\n",
    "L = []\n",
    "while (i<5):\n",
    "    L.append(i*3)\n",
    "    i += 1\n",
    "\n",
    "print(L)    "
   ]
  },
  {
   "cell_type": "markdown",
   "metadata": {
    "deletable": false,
    "editable": false,
    "nbgrader": {
     "cell_type": "markdown",
     "checksum": "76f3817cdb2d31536f61c5cc591ef128",
     "grade": false,
     "grade_id": "cell-13adbf8a8eef8e87",
     "locked": true,
     "schema_version": 3,
     "solution": false,
     "task": false
    }
   },
   "source": [
    "### Problem 0.2.4\n",
    "> **Ex. 0.2.4:**  Begin by defining an empty list named `answer_024`. Write a while loop that runs from $i=0$ up to but not including $i=1000$. In each loop it should determine if the current value of `i` is a multiple of 27. If it is, append the number to the answer list `answer_024`. (recall that $i$ is divisible by $a$ if $i \\text{ mod } a = 0$. The modulo operator in python is `%`)\n",
    "\n",
    "> *Hint:* The `if` statement does not need to be followed by an `else`. You can simply code the `if` part and python will automatically skip it and continue if the logical condition is False.\n",
    ">\n",
    "> *Hint:* Remember to increment `i` in each iteration. Otherwise the program will run forever. If this happens press _kernel > interrupt_ in the menu bar. "
   ]
  },
  {
   "cell_type": "code",
   "execution_count": null,
   "metadata": {
    "deletable": false,
    "nbgrader": {
     "cell_type": "code",
     "checksum": "36c9d9977e6120777a936d63e28f8305",
     "grade": false,
     "grade_id": "problem_024",
     "locked": false,
     "schema_version": 3,
     "solution": true
    }
   },
   "outputs": [],
   "source": [
    "i = 0\n",
    "answer_024 = []\n",
    "# YOUR CODE HERE\n",
    "raise NotImplementedError()"
   ]
  },
  {
   "cell_type": "code",
   "execution_count": null,
   "metadata": {
    "deletable": false,
    "editable": false,
    "nbgrader": {
     "cell_type": "code",
     "checksum": "b3ca00d09f5247b7235e17fe11e86e07",
     "grade": true,
     "grade_id": "problem_024_tests",
     "locked": true,
     "points": 1,
     "schema_version": 3,
     "solution": false
    }
   },
   "outputs": [],
   "source": [
    "assert answer_024 == [i for i in range(1000) if i % 27 == 0]"
   ]
  },
  {
   "cell_type": "markdown",
   "metadata": {
    "slideshow": {
     "slide_type": "slide"
    }
   },
   "source": [
    "# 0.3. Reusable code"
   ]
  },
  {
   "cell_type": "markdown",
   "metadata": {
    "slideshow": {
     "slide_type": "fragment"
    }
   },
   "source": [
    "## Functions\n",
    "\n",
    "If you have never programmed in anything but statistical software such as Stata or SAS the concept of functions might be new to you. In python a function is simply a \"recipe\" that is first written, and then later used to compute something. Conceptually functions in programming are similar to functions in math. They have between $0$ and \"$\\infty$\" inputs, do some calculation using their inputs and then return between 1 and \"$\\infty$\" outputs. \n",
    "\n",
    "By making these recipes we can save time by making a concise function that does exactly the job we want to complete. \n",
    "\n",
    "Python contains a large number of [built-in functions](https://docs.python.org/3/library/functions.html). Below you are given examples of how to use the most commonly used built-ins. You should make yourself comfortable using each of the functions shown below."
   ]
  },
  {
   "cell_type": "code",
   "execution_count": null,
   "metadata": {},
   "outputs": [],
   "source": [
    "# Setup for the examples. We define two lists\n",
    "# to show you the built-in functions.\n",
    "l1 = [0,10,20,30,40,50,60,70,80,90]\n",
    "l2 = ['a', 'b', 'c', 'd', 'e', 'f','g', 'h', 'i', 'j']"
   ]
  },
  {
   "cell_type": "code",
   "execution_count": null,
   "metadata": {},
   "outputs": [],
   "source": [
    "# The len(x) function gives you the length of the input\n",
    "len(l2)"
   ]
  },
  {
   "cell_type": "code",
   "execution_count": null,
   "metadata": {},
   "outputs": [],
   "source": [
    "# The abs(x) function returns the absolute value of x\n",
    "abs(-5)"
   ]
  },
  {
   "cell_type": "code",
   "execution_count": null,
   "metadata": {},
   "outputs": [],
   "source": [
    "# The min(x) and max(x) functions return the minimum\n",
    "# and maximum of the input.\n",
    "min(l1), max(l1)"
   ]
  },
  {
   "cell_type": "code",
   "execution_count": null,
   "metadata": {},
   "outputs": [],
   "source": [
    "# The map(function, Iterable) function applies the \n",
    "# supplied function to each element in Iterable:\n",
    "# (the list() call just converts the result to a list)\n",
    "list(\n",
    "    map(len, l2)\n",
    ")"
   ]
  },
  {
   "cell_type": "code",
   "execution_count": null,
   "metadata": {},
   "outputs": [],
   "source": [
    "# The range([start], stop, [step]) function returns \n",
    "# a range of numbers from `start` to `stop`, \n",
    "# in increments of `step`. The values in [] are \n",
    "# optional. If no start value is set, it defaults to 0.\n",
    "# If no step value is set it defaults to 1. A stop value\n",
    "# must always be set.\n",
    "\n",
    "print(\"Range from 0 to 100, step=1:\", range(100))\n",
    "print(\"Range from 0 to 100, step=2\", range(0, 100, 2))\n",
    "print(\"Range from 10 to 65, step=3\", range(10, 65, 3))"
   ]
  },
  {
   "cell_type": "code",
   "execution_count": null,
   "metadata": {},
   "outputs": [],
   "source": [
    "# The reversed(x) function reverses the input.\n",
    "# we can then loop trough it backwards\n",
    "l1_reverse = reversed(l1)\n",
    "\n",
    "for e in l1_reverse:\n",
    "    print(e)"
   ]
  },
  {
   "cell_type": "code",
   "execution_count": null,
   "metadata": {},
   "outputs": [],
   "source": [
    "# The enumerate(x) function returns the \n",
    "# index of the item as well as the item \n",
    "# itself in sequence. With it you can \n",
    "# loop through things while keeping track\n",
    "# of their position:\n",
    "l2_enumerate = enumerate(l2)\n",
    "\n",
    "for index, element in l2_enumerate:\n",
    "    print(index, element)"
   ]
  },
  {
   "cell_type": "code",
   "execution_count": null,
   "metadata": {},
   "outputs": [],
   "source": [
    "# The zip(x,y,...) function \"zips\" together two\n",
    "# or more iterables allowing you to loop through\n",
    "# them pairwise:\n",
    "\n",
    "l1l2_zip = zip(l1,l2)\n",
    "\n",
    "for e1, e2 in l1l2_zip:\n",
    "    print(e1, e2)\n"
   ]
  },
  {
   "cell_type": "markdown",
   "metadata": {},
   "source": [
    "#### The how\n",
    "You can also write your own python functions. A python function is defined with the `def` keyword, followed by a user defined name of the function, the inputs to the function and a colon. On the following line the _function body_ is written, indented by one TAB. \n",
    "\n",
    "Functions use the keyword `return` to signal what values the function should return after doing its calculations on the inputs. For example we can define a function named `my_first_function` seen in the cell below. Run the cell below and explain the printed output.\n",
    "\n"
   ]
  },
  {
   "cell_type": "code",
   "execution_count": null,
   "metadata": {},
   "outputs": [],
   "source": [
    "def my_first_function(x): # takes input x\n",
    "    x_squared = x**2 # x squared\n",
    "    return x_squared + 1\n",
    "\n",
    "print('Output for input of 0: ', my_first_function(0))\n",
    "print('Output for input of 1: ', my_first_function(1))\n",
    "print('Output for input of 2: ', my_first_function(2))\n",
    "print('Output for input of 3: ', my_first_function(3))"
   ]
  },
  {
   "cell_type": "markdown",
   "metadata": {},
   "source": [
    "We can also make more complex functions. The function below, named `my_second_function`, takes two inputs `a` and `b` that is used to compute the values $a^b$ (written in python as `a**b`) and $b^a$ and returns the larger of the two, in the following way. Provide the function below with different inputs of `a` and `b`. Explain the output to yourself. "
   ]
  },
  {
   "cell_type": "code",
   "execution_count": null,
   "metadata": {},
   "outputs": [],
   "source": [
    "def my_second_function(a,b):\n",
    "    v1 = a**b\n",
    "    v2 = b**a\n",
    "    \n",
    "    if v1 > v2:\n",
    "        return v1\n",
    "    else:\n",
    "        return v2\n"
   ]
  },
  {
   "cell_type": "markdown",
   "metadata": {
    "deletable": false,
    "editable": false,
    "nbgrader": {
     "cell_type": "markdown",
     "checksum": "af4e3738bd7ecaad64ee0190a17183a5",
     "grade": false,
     "grade_id": "cell-9fcc6fd59e0d3fd9",
     "locked": true,
     "schema_version": 3,
     "solution": false,
     "task": false
    }
   },
   "source": [
    "### Problem 0.3.1\n",
    "> **Ex. 0.3.1:**  Write a function called `minimum` that takes as input a list of numbers, and returns the index and value of the minimum number as a `tuple`. Use your function to calculate the index and value of the minimum number in the list `[-506,286,-456,-316,531,-646,203,-568,882,-61]`. \n",
    "Store the result of this computation in a variable named `answer_031`.\n",
    "\n",
    "> *Hint:* A [\"pythonic\"](https://stackoverflow.com/questions/25011078/what-does-pythonic-mean#:~:text=Pythonic%20means%20code%20that%20doesn,is%20intended%20to%20be%20used) way to keep count of the index of the minimum value would be to loop over the list of numbers by using the [enumerate](#Functions) function on the list of numbers."
   ]
  },
  {
   "cell_type": "code",
   "execution_count": null,
   "metadata": {
    "deletable": false,
    "nbgrader": {
     "cell_type": "code",
     "checksum": "d15789f4c0b93ecd9fcb3fa528a89c1e",
     "grade": false,
     "grade_id": "problem_031",
     "locked": false,
     "schema_version": 3,
     "solution": true,
     "task": false
    }
   },
   "outputs": [],
   "source": [
    "# YOUR CODE HERE\n",
    "raise NotImplementedError()"
   ]
  },
  {
   "cell_type": "code",
   "execution_count": null,
   "metadata": {
    "deletable": false,
    "editable": false,
    "nbgrader": {
     "cell_type": "code",
     "checksum": "ef5ba4f1ff725683b874ee049ffe061e",
     "grade": true,
     "grade_id": "problem_031_tests",
     "locked": true,
     "points": 1,
     "schema_version": 3,
     "solution": false,
     "task": false
    }
   },
   "outputs": [],
   "source": [
    "assert minimum([-506,286,-456,-316,531,-646,203,-568,882,-61]) == (5, -646)\n",
    "assert answer_031 == (5, -646)\n",
    "assert minimum([ 108, -896,  653, -546,  139, -265,  175,  520,  970,  129]) == (1, -896)\n",
    "assert minimum([ 717,  -78, -345,  644,  841, -516,  501,  216,  754, -420]) == (5, -516)"
   ]
  },
  {
   "cell_type": "markdown",
   "metadata": {
    "deletable": false,
    "editable": false,
    "nbgrader": {
     "cell_type": "markdown",
     "checksum": "8fa670a58e75776cd08937da48a8106e",
     "grade": false,
     "grade_id": "cell-ced9fcf972a8b992",
     "locked": true,
     "schema_version": 3,
     "solution": false,
     "task": false
    }
   },
   "source": [
    "### Problem 0.3.2\n",
    "> **Ex. 0.3.2:**  Write a function called `average` that takes as input a list of numbers, and returns the average of the values in the list. Use your function to calculate the average of the values `[1,2,3,4,5,6,7,8,9]`. Store the result of this computation in a variable named `answer_032`."
   ]
  },
  {
   "cell_type": "code",
   "execution_count": null,
   "metadata": {
    "deletable": false,
    "nbgrader": {
     "cell_type": "code",
     "checksum": "c0fc06c0e8a62916f26e045d43ff0b29",
     "grade": false,
     "grade_id": "problem_032",
     "locked": false,
     "schema_version": 3,
     "solution": true,
     "task": false
    }
   },
   "outputs": [],
   "source": [
    "# YOUR CODE HERE\n",
    "raise NotImplementedError()"
   ]
  },
  {
   "cell_type": "code",
   "execution_count": null,
   "metadata": {
    "deletable": false,
    "editable": false,
    "nbgrader": {
     "cell_type": "code",
     "checksum": "ca8c3676a4ea1a93900039adc8bb6eec",
     "grade": true,
     "grade_id": "problem_032_tests",
     "locked": true,
     "points": 1,
     "schema_version": 3,
     "solution": false,
     "task": false
    }
   },
   "outputs": [],
   "source": [
    "assert average([1,2,3,4,5,6,7,8,9]) == 5\n",
    "assert answer_032 == 5\n",
    "assert average([1,1]) == 1\n",
    "assert average([-2,2]) == 0\n",
    "assert average([1]) == 1"
   ]
  },
  {
   "cell_type": "markdown",
   "metadata": {
    "deletable": false,
    "editable": false,
    "nbgrader": {
     "cell_type": "markdown",
     "checksum": "3030df64d4ab231d581cda9f50fe724a",
     "grade": false,
     "grade_id": "cell-ff0740c5de5d7610",
     "locked": true,
     "schema_version": 3,
     "solution": false,
     "task": false
    }
   },
   "source": [
    "### Problem 0.3.3\n",
    "Recall that [Eulers constant](https://en.wikipedia.org/wiki/E_(mathematical_constant)) $e$ can be calculated as \n",
    "$$\n",
    "e=\\lim_{n\\rightarrow \\infty}\\left(1+\\frac{x}{n}\\right)^{n}\n",
    "$$\n",
    "of course we cannot compute the limit on a finite memory computer. Instead we can calculate approximations by taking $n$ large enough.\n",
    "\n",
    "> **Ex. 0.3.3:**  write a function named `eulers_e` that takes two inputs `x` and `n`, calculates \n",
    "$$\n",
    "\\left(1+\\frac{x}{n}\\right)^{n}\n",
    "$$\n",
    "and returns this value. Use your function to calculate `eulers_e(1, 50)` and store this value in the variable `answer_033`."
   ]
  },
  {
   "cell_type": "code",
   "execution_count": null,
   "metadata": {
    "deletable": false,
    "nbgrader": {
     "cell_type": "code",
     "checksum": "f42b959b99eb739c7501418f78b56892",
     "grade": false,
     "grade_id": "problem_033",
     "locked": false,
     "schema_version": 3,
     "solution": true
    }
   },
   "outputs": [],
   "source": [
    "# YOUR CODE HERE\n",
    "raise NotImplementedError()"
   ]
  },
  {
   "cell_type": "code",
   "execution_count": null,
   "metadata": {
    "deletable": false,
    "editable": false,
    "nbgrader": {
     "cell_type": "code",
     "checksum": "177c1667a336c8b27fb37c7a97f803af",
     "grade": true,
     "grade_id": "problem_033_tests",
     "locked": true,
     "points": 2,
     "schema_version": 3,
     "solution": false,
     "task": false
    }
   },
   "outputs": [],
   "source": [
    "assert round(answer_033, 2) == 2.69\n",
    "assert eulers_e(1,1) == 2\n",
    "assert eulers_e(0,19) == 1\n",
    "assert round(eulers_e(1,1000), 2) == 2.72"
   ]
  },
  {
   "cell_type": "markdown",
   "metadata": {
    "deletable": false,
    "editable": false,
    "nbgrader": {
     "cell_type": "markdown",
     "checksum": "7e93654f5c121095f1ad06c7b50c41b2",
     "grade": false,
     "grade_id": "cell-6495aeac08e14c37",
     "locked": true,
     "schema_version": 3,
     "solution": false,
     "task": false
    }
   },
   "source": [
    "### Problem 0.3.4\n",
    "The inverse of the exponential is the [logarithm](https://en.wikipedia.org/wiki/Logarithm). Like the exponential function there are limit definitions of the logarithm. One of these is \n",
    "$$\n",
    "log(x) = 2 \\cdot \\sum_{k=0}^{\\infty} \\frac{1}{2k+1} \\left( \\frac{x-1}{x+1} \\right)^{2k+1}\n",
    "$$\n",
    "\n",
    "where $\\sum_{k=0}^{\\infty}$ signifies the sum of infinitely many elements, starting from $k=0$. Each element in the sum takes the value $\\frac{1}{2k+1} \\left( \\frac{x-1}{x+1} \\right)^{2k+1}$ for some $k$. As before we mus approximate this with a finite sum. \n",
    "\n",
    "> **Ex. 0.3.4:**  define another function called `natural_logarithm` which takes two inputs `x` and `k_max`. In the function body calculate \n",
    "$$\n",
    "2 \\cdot \\sum_{k=0}^{k\\_max} \\frac{1}{2k+1} \\left( \\frac{x-1}{x+1} \\right)^{2k+1}\n",
    "$$\n",
    "and return this value. Use your function to calculate `natural_logarithm(2.71, 1000)`. Store this value in a variable named `answer_034`.\n",
    "\n",
    "> *Hint:* to calculate the sum, first initialize a value total = 0, and loop through $k\\in [0, k\\_max]$. Add the partial sum to your total in each step of the loop. After finalizing the loop you can then multiply the total by 2 and return the result."
   ]
  },
  {
   "cell_type": "code",
   "execution_count": null,
   "metadata": {
    "deletable": false,
    "nbgrader": {
     "cell_type": "code",
     "checksum": "1e1eb6ada69f698d6f00a24fe6eb84d4",
     "grade": false,
     "grade_id": "problem_034",
     "locked": false,
     "schema_version": 3,
     "solution": true
    }
   },
   "outputs": [],
   "source": [
    "# YOUR CODE HERE\n",
    "raise NotImplementedError()"
   ]
  },
  {
   "cell_type": "code",
   "execution_count": null,
   "metadata": {
    "deletable": false,
    "editable": false,
    "nbgrader": {
     "cell_type": "code",
     "checksum": "cc82370b86f17850a8da570ba05ab549",
     "grade": true,
     "grade_id": "problem_034_tests",
     "locked": true,
     "points": 2,
     "schema_version": 3,
     "solution": false,
     "task": false
    }
   },
   "outputs": [],
   "source": [
    "assert round(answer_034) == 1\n",
    "assert natural_logarithm(1,0) == 0\n",
    "assert natural_logarithm(0,0) == -2 or natural_logarithm(0,1) == -2\n",
    "assert natural_logarithm(1,100) == 0"
   ]
  },
  {
   "cell_type": "markdown",
   "metadata": {},
   "source": [
    "### Problem 0.3.5\n",
    "Just like numbers, strings and data types, python treats functions as an object. This means you can write functions, that take a function as input and functions that return functions after being executed. This is sometimes a useful tool to have when you need to add extra functionality to an already existing function, or if you need to write _function factories_.\n",
    "\n",
    "> **Ex. 0.3.5:**  Write a function called `exponentiate` that takes one input named `func`. In the body of `exponentiate` define a nested function (i.e. a function within a function) called `with_exp` that takes two inputs `x` and `k`. The nested function should return `func(e, k)` where `e=eulers_e(x, k)`. The outer function should return the nested function `with_exp`, i.e. write something like\n",
    "\n",
    ">```python\n",
    "def exponentiate(func):\n",
    "    def with_exp(x, k):\n",
    "        e = eulers_e(x, k)\n",
    "        value = #[FILL IN]\n",
    "        return value\n",
    "    return with_exp\n",
    "```\n",
    "\n",
    "> Call the `exponentiate` function on `natural_logarithm` and store the result in a new variable called `logexp`. Then call `logexp(1, 1000)` and store this value in the variable `answer_035`."
   ]
  },
  {
   "cell_type": "code",
   "execution_count": null,
   "metadata": {
    "deletable": false,
    "nbgrader": {
     "cell_type": "code",
     "checksum": "8f2df8f7525bff11a7c2168ba8ba791e",
     "grade": false,
     "grade_id": "problem_035",
     "locked": false,
     "schema_version": 3,
     "solution": true
    }
   },
   "outputs": [],
   "source": [
    "# YOUR CODE HERE\n",
    "raise NotImplementedError()"
   ]
  },
  {
   "cell_type": "code",
   "execution_count": null,
   "metadata": {
    "deletable": false,
    "editable": false,
    "nbgrader": {
     "cell_type": "code",
     "checksum": "80f2c17188540fda6fc35fb8f938e4af",
     "grade": true,
     "grade_id": "problem_035_tests",
     "locked": true,
     "points": 2,
     "schema_version": 3,
     "solution": false,
     "task": false
    }
   },
   "outputs": [],
   "source": [
    "assert round(answer_035) == 1\n",
    "assert round(logexp(2, 1000)) == 2\n",
    "assert round(logexp(3, 1000)) == 3\n",
    "assert round(logexp(4, 1000)) == 4"
   ]
  },
  {
   "cell_type": "markdown",
   "metadata": {},
   "source": [
    "## Getting more general\n",
    "\n",
    "#### Modules\n",
    "\n",
    "Whatever we attempt in programming, it is likely nowadays that someone has done it before us. Therefore we can reuse code which allows to i) save time by using others' code and ii) learn from  others' code. Moreover, often the code implemented by someone with more experience is likely to work better and faster than what we can come up with! That's why we introduce modules. These are packages of Python code that we can load and by doing that we get access to powerful tools.\n",
    "\n",
    "Let's see how modules work. Run the cell below to load a module called `numpy` which allows us to work with linear algebra and other numeric tools. "
   ]
  },
  {
   "cell_type": "code",
   "execution_count": null,
   "metadata": {
    "slideshow": {
     "slide_type": "-"
    }
   },
   "outputs": [],
   "source": [
    "import numpy as np"
   ]
  },
  {
   "cell_type": "markdown",
   "metadata": {
    "slideshow": {
     "slide_type": "fragment"
    }
   },
   "source": [
    "Let's  create an `array` with numpy."
   ]
  },
  {
   "cell_type": "code",
   "execution_count": null,
   "metadata": {
    "slideshow": {
     "slide_type": "-"
    }
   },
   "outputs": [],
   "source": [
    "row1 = [1,2]\n",
    "row2 = [3,4]\n",
    "table = [row1, row2]\n",
    "\n",
    "my_array = np.array(table)\n",
    "my_array"
   ]
  },
  {
   "cell_type": "markdown",
   "metadata": {
    "slideshow": {
     "slide_type": "fragment"
    }
   },
   "source": [
    "*What is a numpy array?*\n",
    "An n-dimensional container that can store specific data types, e.g. bool and float. The arrays come with certain available methods and tools. E.g. 2-d array can act like a matrix, in 3-d it can act like a tensor. "
   ]
  },
  {
   "cell_type": "markdown",
   "metadata": {
    "slideshow": {
     "slide_type": "fragment"
    }
   },
   "source": [
    "Objects can have useful attributes and methods, that are built-in. These are accessed using `\".\"` Example, an array can be transposed as follows:"
   ]
  },
  {
   "cell_type": "code",
   "execution_count": null,
   "metadata": {
    "slideshow": {
     "slide_type": "-"
    }
   },
   "outputs": [],
   "source": [
    "my_array.T"
   ]
  },
  {
   "cell_type": "markdown",
   "metadata": {},
   "source": [
    "#### Classes\n",
    "\n",
    "In Python we can also define our types of objects, which is known as `class`. Each class contains rules and properties that governs how objects of the class will behave. If you are curious and want to learn, which is totally optional, then read more [here](https://docs.python.org/3/tutorial/classes.html). Otherwise move on to part 0.4."
   ]
  },
  {
   "cell_type": "markdown",
   "metadata": {},
   "source": [
    "# 0.4 Pandas for data structuring\n",
    "\n",
    "You may ask yourself. Why do we need to learn data structuring? Data never comes in the form of our model. We need to 'wrangle' our data. As of right now, even the most advanced techniques needs data in a structured format to work with it. You can read more about how people do it [here](https://www.nytimes.com/2014/08/18/technology/for-big-data-scientists-hurdle-to-insights-is-janitor-work.html).\n",
    "\n",
    "<font color=\"red\">STOP!#@</font> Before proceeding, make sure that you have completed all the material above (expect the optional part on Python classes).\n"
   ]
  },
  {
   "cell_type": "markdown",
   "metadata": {},
   "source": [
    "## An overview\n",
    "\n",
    "In the motivation in the beginning of the class we discussed how a number of modules were driving the recent popularity of Python. The most important one is pandas - which is a neat tool for working with tabular data. \n",
    "\n",
    "Tabular data is like the table below. Each row is an observation which consist of two entries, one for each of the columns/fields, i.e. animal and day.  \n",
    "\n",
    "| index | Animal     | Date           |\n",
    "|---------------:|:-----------|:---------------|\n",
    "|  Observation 1 | Elk        | July 1, 2019   |\n",
    "|  Observation 2 | Pig        | July 3, 2019   |\n",
    "\n",
    "What pandas provides is a smart way of structuring data. It has two fundamental data types, see below. These are essentially just container but come with a lot of extra functionality for structuring data and performing analysis. \n",
    "\n",
    "- `Series`: tabular data with a single column (field)\n",
    "  - akin to a vector in mathematics\n",
    "  - has labelled columns (e.g. Animal and Date above) and named rows, called indices.\n",
    "- `DataFrame`: tabular data that allows for more than one column (multiple fields)\n",
    "  - akin to a matrix in mathematics  \n",
    "  \n",
    "Run the code below to make your first pandas dataframe. Try to print it and explain the content it shows."
   ]
  },
  {
   "cell_type": "code",
   "execution_count": null,
   "metadata": {},
   "outputs": [],
   "source": [
    "import pandas as pd\n",
    "\n",
    "df1 = pd.DataFrame(data=[[1,2],[3,4],[5,6],[7,8]],\n",
    "                   index=['i', 'ii','iii','iv'],\n",
    "                   columns=['A', 'B'])"
   ]
  },
  {
   "cell_type": "markdown",
   "metadata": {
    "slideshow": {
     "slide_type": "fragment"
    }
   },
   "source": [
    "The code below makes a series from a list. We can see that it contains all the four fundamental data types!"
   ]
  },
  {
   "cell_type": "code",
   "execution_count": null,
   "metadata": {
    "slideshow": {
     "slide_type": "-"
    }
   },
   "outputs": [],
   "source": [
    "L = [1, 1.2, 'abc', True]\n",
    "ser1 = pd.Series(L)"
   ]
  },
  {
   "cell_type": "markdown",
   "metadata": {},
   "source": [
    "Now you may ask yourself, *why don't we just use numpy?* There are many reasons. Pandas is easier for loading, structuring and and making simple analysis of tabular data. However, in many cases if you are working with custom data or need to performing fast and complex array computations then numpy is a better option. If you are interested see discussion [here](https://stackoverflow.com/questions/30067051/python-what-are-the-major-improvement-of-pandas-over-numpy-scipy)."
   ]
  },
  {
   "cell_type": "markdown",
   "metadata": {},
   "source": [
    "## Switching among python, numpy and pandas"
   ]
  },
  {
   "cell_type": "markdown",
   "metadata": {
    "slideshow": {
     "slide_type": "fragment"
    }
   },
   "source": [
    "Pandas dataframes can be thought of as numpy arrays with some additional stuff. Note that columns can have different datatypes!\n",
    "\n",
    "Most functions from `numpy` can be applied directly to Pandas. We can convert a DataFrame to a `numpy` array with `values` attribute:"
   ]
  },
  {
   "cell_type": "code",
   "execution_count": null,
   "metadata": {
    "slideshow": {
     "slide_type": "-"
    }
   },
   "outputs": [],
   "source": [
    "df1.values"
   ]
  },
  {
   "cell_type": "markdown",
   "metadata": {
    "slideshow": {
     "slide_type": "fragment"
    }
   },
   "source": [
    "In Python we can describe it as a *list of lists*."
   ]
  },
  {
   "cell_type": "code",
   "execution_count": null,
   "metadata": {
    "slideshow": {
     "slide_type": "-"
    }
   },
   "outputs": [],
   "source": [
    "df1.values.tolist()"
   ]
  },
  {
   "cell_type": "markdown",
   "metadata": {},
   "source": [
    "Both dataframes and series have indices which are both a blessing and a curse. These indices means that we can often convert a Series into a dictionary:"
   ]
  },
  {
   "cell_type": "code",
   "execution_count": null,
   "metadata": {},
   "outputs": [],
   "source": [
    "ser1.to_dict()"
   ]
  },
  {
   "cell_type": "markdown",
   "metadata": {},
   "source": [
    "**<font color=\"red\">WARNING!#@</font>**: Series indices are NOT unique thus we may lose data if we convert to a dict which requires unique keys."
   ]
  },
  {
   "cell_type": "markdown",
   "metadata": {},
   "source": [
    "## Inspection\n",
    "Often we want to see what our dataframe contains. This can be done by putting the dataframe at the end of our cell, then it will automatically be printed.\n",
    "\n",
    "The example below consist of 100 rows, with 5 columns of random data. We see that putting the dataframe in the end prints the dataframe."
   ]
  },
  {
   "cell_type": "code",
   "execution_count": null,
   "metadata": {},
   "outputs": [],
   "source": [
    "df2 = pd.DataFrame(data=np.random.rand(100,5), \n",
    "                   columns=['A','B','C','D','E'])\n",
    "df2"
   ]
  },
  {
   "cell_type": "markdown",
   "metadata": {},
   "source": [
    "We can also use `head` and the `tail` method that select respectively the first and last observations in a DataFrame. The code below prints the first four rows."
   ]
  },
  {
   "cell_type": "code",
   "execution_count": null,
   "metadata": {},
   "outputs": [],
   "source": [
    "df3 = df2.head(n=4)\n",
    "df3"
   ]
  },
  {
   "cell_type": "markdown",
   "metadata": {},
   "source": [
    "## Input-output\n",
    "\n",
    "We can load and save dataframes from our computer or the internet. Try the code below to save our dataframe as a CSV file called `my_data.csv`. If you are unsure what a CSV file is then check [the Wikipedia  description](https://en.wikipedia.org/wiki/Comma-separated_values)."
   ]
  },
  {
   "cell_type": "code",
   "execution_count": null,
   "metadata": {},
   "outputs": [],
   "source": [
    "df.to_csv('my_data.csv')"
   ]
  },
  {
   "cell_type": "markdown",
   "metadata": {},
   "source": [
    "\n",
    "Loading data is just as easy. Some data sources are open and easy to collect data from. They do not require formatting as they come in a table format. The code below load a CSV file on school test data from NYC. "
   ]
  },
  {
   "cell_type": "code",
   "execution_count": null,
   "metadata": {},
   "outputs": [],
   "source": [
    "my_url = 'https://data.cityofnewyork.us/api/views/zt9s-n5aj/rows.csv'\n",
    "my_df = pd.read_csv(my_url)"
   ]
  },
  {
   "cell_type": "markdown",
   "metadata": {},
   "source": [
    "#### Working with weather data\n",
    "We move on to the next problem in the assignment. These are part of other exercises that you will see later in the course and also use weather data. Our source will be National Oceanic and Atmospheric Administration (NOAA) which have a global data collection going back a couple of centuries. This collection is called Global Historical Climatology Network (GHCN). The data contains daily weather recorded at the weather stations. A description of GHCN can be found here: ftp://ftp.ncdc.noaa.gov/pub/data/ghcn/daily/by_year/readme.txt (the [ftp link](https://en.wikipedia.org/wiki/File_Transfer_Protocol) probably needs to be pasted manually in the browser)."
   ]
  },
  {
   "cell_type": "markdown",
   "metadata": {
    "deletable": false,
    "editable": false,
    "nbgrader": {
     "cell_type": "markdown",
     "checksum": "ea3b90903d2c4b6daa124dd362103ff6",
     "grade": false,
     "grade_id": "cell-cd4ddfa624733d63",
     "locked": true,
     "schema_version": 3,
     "solution": false,
     "task": false
    }
   },
   "source": [
    "> **Ex. 0.4.1:** Use Pandas' CSV reader to fetch  daily data weather from 1864 for various stations - available here: ftp://ftp.ncdc.noaa.gov/pub/data/ghcn/daily/by_year/. Save the dataframe in the variable `df_weather`. \n",
    "\n",
    "> *Hints*: you will need to give `read_csv` some keywords. Here are some suggestions\n",
    "  - Specify the path, as the URL linking directly to the 1864 file as in the example above. To do this, open the ftp link and scroll through the .CSV files and copy the link address of the right CSV file. \n",
    "  - for [compressed files](https://www.winzip.com/win/en/gz-file.html) you may need to specify the keyword `compression` when calling the `.read_csv()` method.\n",
    "  - `header` can be specified as the CSV has no column names.  "
   ]
  },
  {
   "cell_type": "code",
   "execution_count": null,
   "metadata": {},
   "outputs": [],
   "source": [
    "import pandas as pd"
   ]
  },
  {
   "cell_type": "code",
   "execution_count": null,
   "metadata": {
    "deletable": false,
    "nbgrader": {
     "cell_type": "code",
     "checksum": "ec191db08234e357d15d9ade76fd1bdb",
     "grade": false,
     "grade_id": "problem_041",
     "locked": false,
     "schema_version": 3,
     "solution": true,
     "task": false
    }
   },
   "outputs": [],
   "source": [
    "# YOUR CODE HERE\n",
    "raise NotImplementedError()"
   ]
  },
  {
   "cell_type": "code",
   "execution_count": null,
   "metadata": {
    "deletable": false,
    "editable": false,
    "nbgrader": {
     "cell_type": "code",
     "checksum": "4f7704a4488b49914db7d30128f6ecf4",
     "grade": true,
     "grade_id": "problem_041_tests",
     "locked": true,
     "points": 2,
     "schema_version": 3,
     "solution": false,
     "task": false
    }
   },
   "outputs": [],
   "source": [
    "assert len(df_weather[0].unique()) == 76\n",
    "assert ('ASN00075048' in df_weather[0].unique()) & ('USP00CA0003' in  df_weather[0].unique())\n",
    "assert len(df_weather) == 31921"
   ]
  },
  {
   "cell_type": "markdown",
   "metadata": {
    "slideshow": {
     "slide_type": "fragment"
    }
   },
   "source": [
    "## Selecting rows and columns\n",
    "\n",
    "In pandas there are two canonical ways of accessing subsets of a dataframe.\n",
    "- The `iloc` attribute: access rows and columns using integer indices (like a list).\n",
    "- The `loc` attribute: access rows and columns using immutable keys, e.g. numbers, strings (like a dictionary).\n",
    "\n",
    "In what follows we will describe some different way of selection using `.iloc` and `.loc` as well as a simpler way of simply accesing the dataframe using `[]`. The different ways are meant to give you an overview. \n",
    " \n",
    "#### Using list of keys/indices\n",
    "\n",
    "Below is an example of using the `iloc` attribute to select specific rows:"
   ]
  },
  {
   "cell_type": "code",
   "execution_count": null,
   "metadata": {},
   "outputs": [],
   "source": [
    "df1    #show df1 before indexing it with .iloc[]"
   ]
  },
  {
   "cell_type": "code",
   "execution_count": null,
   "metadata": {
    "slideshow": {
     "slide_type": "-"
    }
   },
   "outputs": [],
   "source": [
    "my_irows = [0, 3]\n",
    "df1.iloc[my_irows]"
   ]
  },
  {
   "cell_type": "markdown",
   "metadata": {
    "slideshow": {
     "slide_type": "fragment"
    }
   },
   "source": [
    "We can select columns and rows simultaneously. Below is an example of using the `loc` attribute, which does that:"
   ]
  },
  {
   "cell_type": "code",
   "execution_count": null,
   "metadata": {
    "slideshow": {
     "slide_type": "-"
    }
   },
   "outputs": [],
   "source": [
    "my_rows = ['i', 'iii']\n",
    "my_cols = ['A']\n",
    "df1.loc[my_rows, my_cols]"
   ]
  },
  {
   "cell_type": "markdown",
   "metadata": {},
   "source": [
    "#### Using thresholds\n",
    "We can also use `iloc` and `loc` for selecting rows and/or columns below or above some treshold, see below. Note that whether or not the `:` is on front determines whether it is above or below."
   ]
  },
  {
   "cell_type": "code",
   "execution_count": null,
   "metadata": {},
   "outputs": [],
   "source": [
    "df2.iloc[:3,:4]"
   ]
  },
  {
   "cell_type": "markdown",
   "metadata": {},
   "source": [
    "#### Using a boolean data\n",
    "If we provide the dataframe with a boolean it will select rows (also works with `iloc` and `loc`). We will see soon that this is an extremely useful way of selecting certain rows."
   ]
  },
  {
   "cell_type": "code",
   "execution_count": null,
   "metadata": {},
   "outputs": [],
   "source": [
    "df3[[True,False,False,True]]"
   ]
  },
  {
   "cell_type": "markdown",
   "metadata": {},
   "source": [
    "#### Selecting columns\n",
    "\n",
    "Often we need to select specific columns. If we provide the dataframe with a list of column names it will make a dataframe keep only these columns:"
   ]
  },
  {
   "cell_type": "code",
   "execution_count": null,
   "metadata": {},
   "outputs": [],
   "source": [
    "df3[['B','D']]"
   ]
  },
  {
   "cell_type": "markdown",
   "metadata": {
    "deletable": false,
    "editable": false,
    "nbgrader": {
     "cell_type": "markdown",
     "checksum": "f682eac5df9782f6feba9ab8613df7b3",
     "grade": false,
     "grade_id": "cell-d06f35bef661c21e",
     "locked": true,
     "schema_version": 3,
     "solution": false,
     "task": false
    }
   },
   "source": [
    "\n",
    "> **Ex 0.4.2:** Select the four left-most columns which contain: station identifier, data, observation type, observation value. Rename them as *'station', 'datetime', 'obs_type', 'obs_value'*. \n",
    "\n",
    "> *Hints:* \n",
    "- rename can be done with `df.columns=COLS` where `COLS` is a list of column names.\n",
    "- we can require that column values come from a list of values by using the [.isin](https://pandas.pydata.org/pandas-docs/stable/reference/api/pandas.Series.isin.html) method for a pandas Series\n"
   ]
  },
  {
   "cell_type": "code",
   "execution_count": null,
   "metadata": {
    "deletable": false,
    "nbgrader": {
     "cell_type": "code",
     "checksum": "9532ab0d4cc469db9186fd47cc230907",
     "grade": false,
     "grade_id": "problem_042",
     "locked": false,
     "schema_version": 3,
     "solution": true,
     "task": false
    }
   },
   "outputs": [],
   "source": [
    "# YOUR CODE HERE\n",
    "raise NotImplementedError()"
   ]
  },
  {
   "cell_type": "code",
   "execution_count": null,
   "metadata": {
    "deletable": false,
    "editable": false,
    "nbgrader": {
     "cell_type": "code",
     "checksum": "431ffcb9e32fbf982906721b148ab7ab",
     "grade": true,
     "grade_id": "problem_042_tests",
     "locked": true,
     "points": 1,
     "schema_version": 3,
     "solution": false,
     "task": false
    }
   },
   "outputs": [],
   "source": [
    "assert len(df_weather.columns) == 4\n",
    "assert df_weather.columns[0] == \"station\"\n",
    "assert df_weather.columns[1] == \"datetime\"\n",
    "assert df_weather.columns[2] == \"obs_type\"\n",
    "assert df_weather.columns[3] == \"obs_value\""
   ]
  },
  {
   "cell_type": "markdown",
   "metadata": {},
   "source": [
    "## Basic operations \n",
    "\n",
    "How do perform elementary operations like we learned for basic Python? E.g. numeric operations such as summation (`+`) or logical operations such as greater than (`>`). Actually we are in luck - they are exactly the same. \n",
    "\n",
    "Let's see how it works for numeric data using a numpy array (works the same way as Pandas)."
   ]
  },
  {
   "cell_type": "code",
   "execution_count": null,
   "metadata": {
    "slideshow": {
     "slide_type": "-"
    }
   },
   "outputs": [],
   "source": [
    "my_arr1 = np.array([2,3,2,1,1])\n",
    "my_arr2 = my_arr1 ** 2\n",
    "my_arr2"
   ]
  },
  {
   "cell_type": "markdown",
   "metadata": {
    "slideshow": {
     "slide_type": "slide"
    }
   },
   "source": [
    "*Can we do the same with two vectors?* Yes, we can also do elementwise addition, multiplication, subtractions etc. of series. Example: "
   ]
  },
  {
   "cell_type": "code",
   "execution_count": null,
   "metadata": {
    "slideshow": {
     "slide_type": "fragment"
    }
   },
   "outputs": [],
   "source": [
    "my_arr1 + my_arr2"
   ]
  },
  {
   "cell_type": "markdown",
   "metadata": {
    "slideshow": {
     "slide_type": "fragment"
    }
   },
   "source": [
    "## Changing and copying data\n",
    "\n",
    "Everything in the dataframe can be changed. For instance, we can also update our dataframe with new values, e.g. by making new variables or overwriting existing ones. In the example below we add a new column to add a DataFrame. "
   ]
  },
  {
   "cell_type": "code",
   "execution_count": null,
   "metadata": {},
   "outputs": [],
   "source": [
    "df2['F'] = df2['A'] > df2['D']"
   ]
  },
  {
   "cell_type": "markdown",
   "metadata": {},
   "source": [
    "**<font color=\"red\">WARNING! X#@</font>**: If you work on a subset of data from another dataframe, then this dataframe is what is known as a *view*! Therefore, all changes made in the view will also be made in the original version. \n",
    "\n",
    "In the example below we try to change the dataframe, `df2` which is a view of `df3` and we get a *warning*. Thus, changes to `df3` also happen in `df2`. Notice that we can also use `loc` for changing the data."
   ]
  },
  {
   "cell_type": "code",
   "execution_count": null,
   "metadata": {},
   "outputs": [],
   "source": [
    "df3.loc[:,'D'] = df3['A']-df3['E']\n",
    "print(df2['D'].head(3),'\\n')\n",
    "print(df3['D'].head(3))"
   ]
  },
  {
   "cell_type": "markdown",
   "metadata": {},
   "source": [
    "To avoid the problem of having a *view*, we can instead *copy* the data as in the example below. Try to verify that if you change things in `df4` things do not change in `df2`."
   ]
  },
  {
   "cell_type": "code",
   "execution_count": null,
   "metadata": {},
   "outputs": [],
   "source": [
    "df4 = df2.copy()"
   ]
  },
  {
   "cell_type": "code",
   "execution_count": null,
   "metadata": {},
   "outputs": [],
   "source": [
    "#Verify that the code from above doesn't throw the same \"SettingWithCopyWarning\"\n",
    "#when using the copied dataframe, df4, instead of df3. \n",
    "df4.loc[:,'D'] = df4['A']-df4['E']"
   ]
  },
  {
   "cell_type": "markdown",
   "metadata": {
    "deletable": false,
    "editable": false,
    "nbgrader": {
     "cell_type": "markdown",
     "checksum": "da214ad1b15b45655013c59eff499fe2",
     "grade": false,
     "grade_id": "cell-80e9e149602c985b",
     "locked": true,
     "schema_version": 3,
     "solution": false,
     "task": false
    }
   },
   "source": [
    "\n",
    "> **Ex. 0.4.3:**  Further, select the subset of data for the station `ITE00100550` and only observations for maximal temperature. Make a copy of the DataFrame and store this in the variable `df_select`. Explain in a one or two sentences how copying works. Write your answer in a multi line comment like `\"\"\" Your answer here \"\"\"`.\n",
    "\n",
    "> *Hint*: The `&` operator works elementwise on boolean series (like `and` in core python). This allows to combine conditions for selections."
   ]
  },
  {
   "cell_type": "code",
   "execution_count": null,
   "metadata": {
    "deletable": false,
    "nbgrader": {
     "cell_type": "code",
     "checksum": "48aa3ae8812af8be2f242f428215bae2",
     "grade": true,
     "grade_id": "problem_043",
     "locked": false,
     "points": 1,
     "schema_version": 3,
     "solution": true,
     "task": false
    }
   },
   "outputs": [],
   "source": [
    "# YOUR CODE HERE\n",
    "raise NotImplementedError()"
   ]
  },
  {
   "cell_type": "code",
   "execution_count": null,
   "metadata": {
    "deletable": false,
    "editable": false,
    "nbgrader": {
     "cell_type": "code",
     "checksum": "0502071c9d36e62fd93b4afd217dff7f",
     "grade": true,
     "grade_id": "problem_043_tests",
     "locked": true,
     "points": 1,
     "schema_version": 3,
     "solution": false,
     "task": false
    }
   },
   "outputs": [],
   "source": [
    "assert (df_select.obs_type == \"TMAX\").sum() == 366\n",
    "assert (df_select.station == \"ITE00100550\").sum() == 366\n",
    "assert len(df_select.obs_type.unique()) == 1"
   ]
  },
  {
   "cell_type": "markdown",
   "metadata": {
    "deletable": false,
    "editable": false,
    "nbgrader": {
     "cell_type": "markdown",
     "checksum": "4c0d4b98f31ad92d528cf6ce7a9f6fac",
     "grade": false,
     "grade_id": "cell-29b9cf9eca9bf7d1",
     "locked": true,
     "schema_version": 3,
     "solution": false,
     "task": false
    }
   },
   "source": [
    "> **Ex 0.4.4:** Make sure that max temperature is correctly formated (how many decimals should we add? one? Look through this .txt file for an answer ftp://ftp.ncdc.noaa.gov/pub/data/ghcn/daily/readme.txt). Make a new column called `TMAX_F` where you have converted the temperature variables to Fahrenheit.\n",
    "\n",
    "> *Hint*: Conversion is $F = 32 + 1.8*C$ where $F$ is Fahrenheit and $C$ is Celsius."
   ]
  },
  {
   "cell_type": "code",
   "execution_count": null,
   "metadata": {
    "deletable": false,
    "nbgrader": {
     "cell_type": "code",
     "checksum": "14b3a2094eb8f8413b5dec97cb67d890",
     "grade": false,
     "grade_id": "problem_044",
     "locked": false,
     "schema_version": 3,
     "solution": true,
     "task": false
    }
   },
   "outputs": [],
   "source": [
    "# YOUR CODE HERE\n",
    "raise NotImplementedError()"
   ]
  },
  {
   "cell_type": "code",
   "execution_count": null,
   "metadata": {
    "deletable": false,
    "editable": false,
    "nbgrader": {
     "cell_type": "code",
     "checksum": "791a411fca128066b1567b5be726f5d7",
     "grade": true,
     "grade_id": "problem_044_tests",
     "locked": true,
     "points": 1,
     "schema_version": 3,
     "solution": false,
     "task": false
    }
   },
   "outputs": [],
   "source": [
    "assert df_select.obs_value.sum() == 5947.4"
   ]
  },
  {
   "cell_type": "markdown",
   "metadata": {},
   "source": [
    "## Changing and rearranging indices"
   ]
  },
  {
   "cell_type": "markdown",
   "metadata": {},
   "source": [
    "In addition to replacing values of our data, we can also rearrange order of variables and rows as well as make new ones. We have already seen how to change column names but we can also reset the index, as seen below. Alternatively we can set our own custom index using [`set_index`](https://pandas.pydata.org/pandas-docs/stable/reference/api/pandas.DataFrame.set_index.html), with temporal data etc. which provides the DataFrame with new functionality."
   ]
  },
  {
   "cell_type": "code",
   "execution_count": null,
   "metadata": {},
   "outputs": [],
   "source": [
    "df1_new_index = df1.reset_index(drop=True)"
   ]
  },
  {
   "cell_type": "markdown",
   "metadata": {},
   "source": [
    "A powerful tool for re-organizing the data is to `sort` the data. That is, we can re-organize rows (or columns) such that they are ascending or descending according to one or more columns."
   ]
  },
  {
   "cell_type": "code",
   "execution_count": null,
   "metadata": {},
   "outputs": [],
   "source": [
    "df3_sorted = df3.sort_values(by=['A','B'])\n",
    "df3_sorted"
   ]
  },
  {
   "cell_type": "markdown",
   "metadata": {
    "deletable": false,
    "editable": false,
    "nbgrader": {
     "cell_type": "markdown",
     "checksum": "6515a371cf643e8044cd85d0630dcb93",
     "grade": false,
     "grade_id": "cell-943bb851b2fda450",
     "locked": true,
     "schema_version": 3,
     "solution": false,
     "task": false
    }
   },
   "source": [
    "> **Ex 0.4.5:**  Inspect the indices, are they following the sequence of natural numbers, 0,1,2,...? If not, reset the index and make sure to drop the old."
   ]
  },
  {
   "cell_type": "code",
   "execution_count": null,
   "metadata": {
    "deletable": false,
    "nbgrader": {
     "cell_type": "code",
     "checksum": "5c9d3c3b79089955ddb8f45471e6dd52",
     "grade": false,
     "grade_id": "problem_045",
     "locked": false,
     "schema_version": 3,
     "solution": true,
     "task": false
    }
   },
   "outputs": [],
   "source": [
    "# YOUR CODE HERE\n",
    "raise NotImplementedError()"
   ]
  },
  {
   "cell_type": "code",
   "execution_count": null,
   "metadata": {
    "deletable": false,
    "editable": false,
    "nbgrader": {
     "cell_type": "code",
     "checksum": "c3916490a8ec9de9eb3b45db0fed6141",
     "grade": true,
     "grade_id": "problem_045_tests",
     "locked": true,
     "points": 1,
     "schema_version": 3,
     "solution": false,
     "task": false
    }
   },
   "outputs": [],
   "source": [
    "assert (df_select.index == range(0, 366)).sum() == len(df_select)"
   ]
  },
  {
   "cell_type": "markdown",
   "metadata": {
    "deletable": false,
    "editable": false,
    "nbgrader": {
     "cell_type": "markdown",
     "checksum": "b9e5a8cc35c161640bc52b40e3b4972e",
     "grade": false,
     "grade_id": "cell-9ce1b7a6c622b8ab",
     "locked": true,
     "schema_version": 3,
     "solution": false,
     "task": false
    }
   },
   "source": [
    "> **Ex 0.4.6:** Make a new DataFrame where you have sorted by the maximum temperature. Save this DataFrame as the variable `df_sorted`. What is the date for the first and last observations?"
   ]
  },
  {
   "cell_type": "code",
   "execution_count": null,
   "metadata": {
    "deletable": false,
    "nbgrader": {
     "cell_type": "code",
     "checksum": "d8e940a4d860a004bb9ab08d2e7f9b41",
     "grade": false,
     "grade_id": "problem_046",
     "locked": false,
     "schema_version": 3,
     "solution": true,
     "task": false
    }
   },
   "outputs": [],
   "source": [
    "# YOUR CODE HERE\n",
    "raise NotImplementedError()"
   ]
  },
  {
   "cell_type": "code",
   "execution_count": null,
   "metadata": {
    "deletable": false,
    "editable": false,
    "nbgrader": {
     "cell_type": "code",
     "checksum": "4790e0ccf6b60e34ef3ed02debe2714a",
     "grade": true,
     "grade_id": "problem_046_tests",
     "locked": true,
     "points": 1,
     "schema_version": 3,
     "solution": false,
     "task": false
    }
   },
   "outputs": [],
   "source": [
    "assert df_sorted['datetime'].iloc[0] == 18640117\n",
    "assert df_sorted['datetime'].iloc[-1] == 18640809"
   ]
  },
  {
   "cell_type": "markdown",
   "metadata": {},
   "source": [
    "### Combining what we have learned\n",
    "In the final exercise we will combine some of the things that we have learned throughout this assignment. In particular, we'll:\n",
    "    1. Code a function that can preprocess some data.\n",
    "    2. Iterate over an iterable and apply our function on the specific object at each iteration.\n",
    "    3. Concatenate everything into a single pandas DataFrame.\n",
    "\n",
    "#### f-strings\n",
    "One last concept that could be helpful in the following exercise is the concept of `\"f-strings\"`. f-strings are a nice way to easily format strings in Python. Say that we have a function with which we want to be able to return an url address for a specific website with one or more characters in the url replaced. In the following example we will want to get the url of the website of Statistics Denmark in different languages. This can be done by changing the last part of the url string: https://www.dst.dk/da/. To do this we can utilize f-strings. f-strings work by putting an \"f\" in front of the string to format and curly brackets {} at a specific place in the string with the characters to be inserted into the string inside the brackets. \n",
    "\n",
    "As an example consider the function `change_url()` below. It takes as input the variable `chars` and returns the string stored in the variable `url` with the input inserted inside the curly brackets `{}`. "
   ]
  },
  {
   "cell_type": "code",
   "execution_count": null,
   "metadata": {},
   "outputs": [],
   "source": [
    "def change_url(chars):\n",
    "    url = f\"https://www.dst.dk/{chars}/\"\n",
    "    return url\n",
    "change_url(\"da\")"
   ]
  },
  {
   "cell_type": "markdown",
   "metadata": {},
   "source": [
    "> **Ex. 0.5.0:** Use the change_url() function above together with a list comprehension to get a list with the url of Statistics Denmark in the languages contained in the list `[\"en\", \"da\"]`. Store the result in the variable `answer_050`."
   ]
  },
  {
   "cell_type": "code",
   "execution_count": null,
   "metadata": {
    "deletable": false,
    "nbgrader": {
     "cell_type": "code",
     "checksum": "c39b9c618e1e65af50e174b1df6fc902",
     "grade": false,
     "grade_id": "problem_050",
     "locked": false,
     "schema_version": 3,
     "solution": true,
     "task": false
    }
   },
   "outputs": [],
   "source": [
    "# YOUR CODE HERE\n",
    "raise NotImplementedError()"
   ]
  },
  {
   "cell_type": "code",
   "execution_count": null,
   "metadata": {
    "deletable": false,
    "editable": false,
    "nbgrader": {
     "cell_type": "code",
     "checksum": "937059a32fe39db5ec3ca63e0dceed0c",
     "grade": true,
     "grade_id": "problem_050_tests",
     "locked": true,
     "points": 1,
     "schema_version": 3,
     "solution": false,
     "task": false
    }
   },
   "outputs": [],
   "source": [
    "assert answer_050[0] == 'https://www.dst.dk/en/'\n"
   ]
  },
  {
   "cell_type": "markdown",
   "metadata": {
    "deletable": false,
    "editable": false,
    "nbgrader": {
     "cell_type": "markdown",
     "checksum": "d01d91c599a2169f9505d4fa52708481",
     "grade": false,
     "grade_id": "cell-7c012a7a011e3327",
     "locked": true,
     "schema_version": 3,
     "solution": false,
     "task": false
    }
   },
   "source": [
    "> **Ex. 0.5.1:** Finally, returning to the weather data, get the weather data for the years 1864-1867 and store the DataFrames in a list called `list_of_dfs`. Convert the list into a single DataFrame by concatenating vertically. Store the final DataFrame as the variable `df_weather_period` and reset the index.  \n",
    "\n",
    "> *Hint:* Define a function that takes as input an integer and returns a preprocessed DataFrame by loading the url of  `'ftp://ftp.ncdc.noaa.gov/pub/data/ghcn/daily/by_year/1864.csv.gz'` with the last integer of the given year replaced. It could come useful to use the [built-in function](#Functions) `range(4, 8)`. Don't forget to process the loaded DataFrame by using .iloc[] and changing the column names for each year as we previously did for the year 1864. "
   ]
  },
  {
   "cell_type": "code",
   "execution_count": null,
   "metadata": {
    "deletable": false,
    "nbgrader": {
     "cell_type": "code",
     "checksum": "fbeea084642e6ae137829823e187b427",
     "grade": false,
     "grade_id": "problem_051",
     "locked": false,
     "schema_version": 3,
     "solution": true,
     "task": false
    }
   },
   "outputs": [],
   "source": [
    "# YOUR CODE HERE\n",
    "raise NotImplementedError()"
   ]
  },
  {
   "cell_type": "code",
   "execution_count": null,
   "metadata": {
    "deletable": false,
    "editable": false,
    "nbgrader": {
     "cell_type": "code",
     "checksum": "bd24e79dc5dc13d63d5c5dba65772059",
     "grade": true,
     "grade_id": "problem_051_tests",
     "locked": true,
     "points": 3,
     "schema_version": 3,
     "solution": false,
     "task": false
    }
   },
   "outputs": [],
   "source": [
    "assert len(list_of_dfs[0]) == 31921\n",
    "assert len(list_of_dfs[1]) == 33228\n",
    "assert len(list_of_dfs[2]) == 42289\n",
    "assert len(list_of_dfs[3]) == 52339\n",
    "assert len(df_weather_period) == 159777\n",
    "assert df_weather_period.index[-1] == 159776"
   ]
  }
 ],
 "metadata": {
  "kernelspec": {
   "display_name": "Python 3",
   "language": "python",
   "name": "python3"
  },
  "language_info": {
   "codemirror_mode": {
    "name": "ipython",
    "version": 3
   },
   "file_extension": ".py",
   "mimetype": "text/x-python",
   "name": "python",
   "nbconvert_exporter": "python",
   "pygments_lexer": "ipython3",
   "version": "3.7.3"
  }
 },
 "nbformat": 4,
 "nbformat_minor": 4
}
